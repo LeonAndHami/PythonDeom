{
 "cells": [
  {
   "cell_type": "markdown",
   "metadata": {},
   "source": [
    "单例模式"
   ]
  },
  {
   "cell_type": "code",
   "execution_count": 5,
   "metadata": {},
   "outputs": [
    {
     "name": "stdout",
     "output_type": "stream",
     "text": [
      "进行初始化\n",
      "已经实例化\n",
      "518249859784\n",
      "518249859784\n"
     ]
    }
   ],
   "source": [
    "import threading\n",
    "class Singleton(object):\n",
    "    __instance = None\n",
    "    __is_init = False\n",
    "    __mutex = threading.Lock()\n",
    "    def __new__(cls):\n",
    "        # 双if 加 lock\n",
    "        if cls.__instance is None:\n",
    "            with cls.__mutex:\n",
    "                if cls.__instance is None:\n",
    "                    cls.__instance = super().__new__(cls)\n",
    "        return cls.__instance\n",
    "    \n",
    "    def __init__(self):\n",
    "        if Singleton.__is_init:\n",
    "            print(\"已经实例化\")            \n",
    "            return\n",
    "        print(\"进行初始化\")\n",
    "        Singleton.__is_init = True\n",
    "        \n",
    "tom = Singleton()\n",
    "jerry = Singleton()\n",
    "\n",
    "print(id(tom))\n",
    "print(id(jerry))"
   ]
  }
 ],
 "metadata": {
  "kernelspec": {
   "display_name": "Python 3",
   "language": "python",
   "name": "python3"
  },
  "language_info": {
   "codemirror_mode": {
    "name": "ipython",
    "version": 3
   },
   "file_extension": ".py",
   "mimetype": "text/x-python",
   "name": "python",
   "nbconvert_exporter": "python",
   "pygments_lexer": "ipython3",
   "version": "3.6.4"
  }
 },
 "nbformat": 4,
 "nbformat_minor": 2
}
