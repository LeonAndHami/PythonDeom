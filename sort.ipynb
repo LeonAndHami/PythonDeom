{
 "cells": [
  {
   "cell_type": "code",
   "execution_count": 8,
   "metadata": {},
   "outputs": [
    {
     "data": {
      "text/plain": [
       "True"
      ]
     },
     "execution_count": 8,
     "metadata": {},
     "output_type": "execute_result"
    }
   ],
   "source": [
    "# 插入排序  从小到大\n",
    "\"\"\"\n",
    "假设有一组无序的数据，将第一个数据当作是有序的，将后面全部的当无序的。从后面无序的第一个开始，与前面有序的数据进行\n",
    "比较，找到合适的位置插进去。\n",
    "\n",
    "\"\"\"\n",
    "lst = [1,4,5,6,2,4,10,7]\n",
    "\n",
    "\n",
    "\n",
    "\n",
    "\n",
    "# 二分查找法  前提：列表是有序的\n",
    "\"\"\"\n",
    "首先确定中间的元素  (下界+上界) / 2，\n",
    "如果要找的值比中间值大，那么在从中间值开始的大的那部分中找，反之从小的那部分找\n",
    "\"\"\"\n",
    "def binar_search(lst, item):\n",
    "    n = len(lst)\n",
    "    if n > 0 :\n",
    "        mid = n // 2\n",
    "        if lst[mid] == item:\n",
    "            return True\n",
    "        elif item < lst[mid]:\n",
    "            return binar_search(lst[:mid], item)\n",
    "        else:\n",
    "            return binar_search(lst[mid+1:], item)\n",
    "    return False\n",
    "            \n",
    "        \n",
    "\n",
    "binar_search([1,2,3,4,5,6,7], 5)\n"
   ]
  }
 ],
 "metadata": {
  "kernelspec": {
   "display_name": "Python 3",
   "language": "python",
   "name": "python3"
  },
  "language_info": {
   "codemirror_mode": {
    "name": "ipython",
    "version": 3
   },
   "file_extension": ".py",
   "mimetype": "text/x-python",
   "name": "python",
   "nbconvert_exporter": "python",
   "pygments_lexer": "ipython3",
   "version": "3.6.4"
  }
 },
 "nbformat": 4,
 "nbformat_minor": 2
}
