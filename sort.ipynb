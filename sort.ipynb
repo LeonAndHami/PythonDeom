{
 "cells": [
  {
   "cell_type": "code",
   "execution_count": 1,
   "metadata": {},
   "outputs": [],
   "source": [
    "# 插入排序  从小到大\n",
    "\"\"\"\n",
    "假设有一组无序的数据，将第一个数据当作是有序的，将后面全部的当无序的。从后面无序的第一个开始，与前面有序的数据进行\n",
    "比较，找到合适的位置插进去。\n",
    "\n",
    "\"\"\"\n",
    "lst = [1,4,5,6,2,4,10,7]\n",
    "\n",
    "\n",
    "\n"
   ]
  },
  {
   "cell_type": "code",
   "execution_count": null,
   "metadata": {},
   "outputs": [],
   "source": [
    "# 二分查找法  前提：列表是有序的\n",
    "\"\"\"\n",
    "首先确定中间的元素  (下界+上界) / 2，\n",
    "如果要找的值比中间值大，那么在从中间值开始的大的那部分中找，反之从小的那部分找\n",
    "\"\"\"\n",
    "def binar_search(lst, item):\n",
    "    n = len(lst)\n",
    "    if n > 0 :\n",
    "        mid = n // 2\n",
    "        if lst[mid] == item:\n",
    "            return True\n",
    "        elif item < lst[mid]:\n",
    "            return binar_search(lst[:mid], item)\n",
    "        else:\n",
    "            return binar_search(lst[mid+1:], item)\n",
    "    return False\n",
    "            \n",
    "        \n",
    "\n",
    "binar_search([1,2,3,4,5,6,7], 5)\n"
   ]
  },
  {
   "cell_type": "code",
   "execution_count": null,
   "metadata": {},
   "outputs": [],
   "source": [
    "\"\"\"\n",
    "归并排序\n",
    "归并排序是采用分汉法的一个非常典型的应用。归并排序的思想就是先递归分解数组，再合并数组。\n",
    "\n",
    "将数组分解最小之后，然后合并两个有序数组，基本思路是比较两个数组的最前面的数，谁小就先取谁，取了后相应的指针就\n",
    "往后移一位。然后再比较，直至一个数组为空，最后把另一个数组的剩余部分复制过来即可。\n",
    "\n",
    "\"\"\"\n",
    "\n",
    "def merge_sort(lst):\n",
    "    n = len(lst)\n",
    "    if n <= 1:\n",
    "        return lst\n",
    "    mid = n // 2\n",
    "    # 左边采用归并排序后形成的有序的新列表\n",
    "    left = merge_sort(lst[:mid])\n",
    "    # 右边采用归并排序后形成的有序的新列表\n",
    "    right = merge_sort(lst[mid:])\n",
    "    # 将两个有序的子序列合并为一个亲的整体\n",
    "    l_pointer,r_pointer = 0,0\n",
    "    result = []\n",
    "    while l_pointer < len(left) and r_pointer < len(right):\n",
    "        if left[l_pointer] < right[r_pointer]:\n",
    "            result.append(left[l_pointer])\n",
    "            l_pointer += 1\n",
    "        else:\n",
    "            result.append(right[r_pointer])\n",
    "            r_pointer +=1\n",
    "    result += left[l_pointer:]\n",
    "    result += right[r_pointer:]\n",
    "    return result\n",
    "\n",
    "\n"
   ]
  },
  {
   "cell_type": "code",
   "execution_count": null,
   "metadata": {},
   "outputs": [],
   "source": []
  },
  {
   "cell_type": "code",
   "execution_count": null,
   "metadata": {},
   "outputs": [],
   "source": []
  }
 ],
 "metadata": {
  "kernelspec": {
   "display_name": "Python 3",
   "language": "python",
   "name": "python3"
  },
  "language_info": {
   "codemirror_mode": {
    "name": "ipython",
    "version": 3
   },
   "file_extension": ".py",
   "mimetype": "text/x-python",
   "name": "python",
   "nbconvert_exporter": "python",
   "pygments_lexer": "ipython3",
   "version": "3.6.4"
  }
 },
 "nbformat": 4,
 "nbformat_minor": 2
}
