{
 "cells": [
  {
   "cell_type": "code",
   "execution_count": null,
   "metadata": {},
   "outputs": [],
   "source": [
    "from pymongo import MongoClient\n",
    "\n",
    "class TestMongo(object):\n",
    "    def __init__(self):\n",
    "        client = MongoClient(host='127.0.0.1', port=27017)\n",
    "        self.collection = client['test']['t1'] # test数据库t1集合\n",
    "        \n",
    "    def test_insert(self):\n",
    "        ret = self.collection.insert({'name':'tom'})\n",
    "        print(ret)\n",
    "        \n",
    "    def test_insert_many(self):\n",
    "        list_ = [{'name':'tom'},{'name':'wangcai'}]\n",
    "        ret = self.collection.insert_many(list_)\n",
    "        print(ret) # ret 为所有插入数据的id，循环遍历\n",
    "        \n",
    "        \n",
    "    def test_find(self):\n",
    "        ret = self.collection.find({\"name\":\"tom\"}) # ret 是一个游标\n",
    "        for item in ret:\n",
    "            print(item)\n",
    "\n"
   ]
  }
 ],
 "metadata": {
  "kernelspec": {
   "display_name": "Python 3",
   "language": "python",
   "name": "python3"
  },
  "language_info": {
   "codemirror_mode": {
    "name": "ipython",
    "version": 3
   },
   "file_extension": ".py",
   "mimetype": "text/x-python",
   "name": "python",
   "nbconvert_exporter": "python",
   "pygments_lexer": "ipython3",
   "version": "3.6.4"
  }
 },
 "nbformat": 4,
 "nbformat_minor": 2
}
