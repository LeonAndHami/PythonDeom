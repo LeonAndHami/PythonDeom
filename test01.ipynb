{
 "cells": [
  {
   "cell_type": "markdown",
   "metadata": {},
   "source": [
    "socket编程"
   ]
  },
  {
   "cell_type": "code",
   "execution_count": null,
   "metadata": {},
   "outputs": [],
   "source": [
    "import socket\n",
    "\n",
    "# tcp\n",
    "sk_tcp = socket.socket(socket.AF_INET,socket.SOCK_STREAM)\n",
    "#upd\n",
    "sk_udp = socket.socket(socket.AF_INET,socket.SOCK_DGRAM)\n",
    "\n",
    "\n",
    "sk_tcp.close()\n",
    "\n",
    "sk_udp.close()"
   ]
  },
  {
   "cell_type": "markdown",
   "metadata": {},
   "source": [
    "关于线程的使用"
   ]
  },
  {
   "cell_type": "code",
   "execution_count": 7,
   "metadata": {},
   "outputs": [
    {
     "name": "stdout",
     "output_type": "stream",
     "text": [
      "[1, 2, 3]\n",
      "10\n"
     ]
    }
   ],
   "source": [
    "import threading\n",
    "\n",
    "\n",
    "def say_sth(sth,num):\n",
    "    print(sth)\n",
    "    print(num)\n",
    "    \n",
    "    \n",
    "#创建线程并启动\n",
    "t = threading.Thread(target=say_sth,args=([1,2,3],10))\n",
    "t.start()\n",
    "\n",
    "# #获取当前(进程)所有线程\n",
    "# print(threading.enumerate())\n",
    "\n",
    "\n",
    "\n",
    "class YourClass(threading.Thread):\n",
    "    #继承Thread类必须实现run方法，才能通过start方法来启动\n",
    "    def run(self):\n",
    "        print(\"do your job\")\n",
    "\n",
    "\n",
    "        \n",
    "# t = YourClass()\n",
    "# t.start()\n"
   ]
  },
  {
   "cell_type": "markdown",
   "metadata": {},
   "source": [
    "使用锁解决资源竞争问题"
   ]
  },
  {
   "cell_type": "code",
   "execution_count": 19,
   "metadata": {},
   "outputs": [
    {
     "name": "stdout",
     "output_type": "stream",
     "text": [
      "g_number in method1 is  1000000\n",
      "g_number in method2 is  2000000\n",
      "g_number in main thread is  2000000\n"
     ]
    }
   ],
   "source": [
    "import threading\n",
    "g_number = 0\n",
    "\n",
    "def method1(num):\n",
    "    global g_number\n",
    "    mutex.acquire()\n",
    "    for i in range(num):\n",
    "        g_number += 1   \n",
    "    print(\"g_number in method1 is \",g_number)\n",
    "    mutex.release()\n",
    "    \n",
    "def method2(num):\n",
    "    global g_number\n",
    "    mutex.acquire()\n",
    "    for i in range(num):\n",
    "        g_number += 1\n",
    "    print(\"g_number in method2 is \",g_number)\n",
    "    mutex.release()\n",
    "    \n",
    "mutex = threading.Lock()\n",
    "t1 = threading.Thread(target=method1,args=(1000000,))\n",
    "t2 = threading.Thread(target=method2,args=(1000000,))\n",
    "t1.start()\n",
    "t2.start()\n",
    "\n",
    "t1.join()\n",
    "t2.join()\n",
    "print(\"g_number in main thread is \",g_number)"
   ]
  },
  {
   "cell_type": "markdown",
   "metadata": {},
   "source": [
    "上锁的代码要尽可能少"
   ]
  },
  {
   "cell_type": "code",
   "execution_count": 21,
   "metadata": {},
   "outputs": [
    {
     "name": "stdout",
     "output_type": "stream",
     "text": [
      "g_number in method1 is  1951472\n",
      "g_number in method2 is  2000000\n",
      "g_number in main thread is  2000000\n"
     ]
    }
   ],
   "source": [
    "import threading\n",
    "g_number = 0\n",
    "\n",
    "def method1(num):\n",
    "    global g_number\n",
    "    for i in range(num):\n",
    "        # 上锁的代码要尽可能少\n",
    "        mutex.acquire()\n",
    "        g_number += 1   \n",
    "        mutex.release()\n",
    "    print(\"g_number in method1 is \",g_number)\n",
    "    \n",
    "    \n",
    "def method2(num):\n",
    "    global g_number\n",
    "    \n",
    "    for i in range(num):\n",
    "        mutex.acquire()\n",
    "        g_number += 1\n",
    "        mutex.release()\n",
    "    print(\"g_number in method2 is \",g_number)\n",
    "    \n",
    "    \n",
    "mutex = threading.Lock()\n",
    "t1 = threading.Thread(target=method1,args=(1000000,))\n",
    "t2 = threading.Thread(target=method2,args=(1000000,))\n",
    "t1.start()\n",
    "t2.start()\n",
    "\n",
    "t1.join()\n",
    "t2.join()\n",
    "print(\"g_number in main thread is \",g_number)"
   ]
  },
  {
   "cell_type": "markdown",
   "metadata": {},
   "source": [
    "队列的使用----多进程共享数据"
   ]
  },
  {
   "cell_type": "code",
   "execution_count": 2,
   "metadata": {},
   "outputs": [],
   "source": [
    "import multiprocessing\n",
    "q = multiprocessing.Queue()  # 设定队列大小，一般不指定\n",
    "q.put(2) # 如果满了会阻塞\n",
    "q.put_nowait(3) # 不阻塞，满了会报异常\n",
    "q.get() # 如果空会阻塞\n",
    "q.get_nowait()  # 空了不会阻塞，但会报错\n",
    "q.empty() # 空判断\n",
    "q.full()  # 满判断\n",
    "\n"
   ]
  },
  {
   "cell_type": "code",
   "execution_count": 4,
   "metadata": {},
   "outputs": [],
   "source": [
    "import multiprocessing\n",
    "def down_load_data(queue):\n",
    "    # 模拟从网络下载数据\n",
    "    data = [1,2,3,4,5]\n",
    "    for _ in data:\n",
    "        queue.put(_)\n",
    "    print(\"data is ok\")\n",
    "    \n",
    "\n",
    "def analysis_data(queue):\n",
    "    # 模拟分析数据\n",
    "    data = list()\n",
    "    while not queue.empty():\n",
    "        data.append(queue.get())\n",
    "    print(\"data analysis ok\")\n",
    "    print(data)\n",
    "\n",
    "def main():\n",
    "    queue = multiprocessing.Queue()\n",
    "    p1 =  multiprocessing.Process(target=down_load_data,args=(queue,))\n",
    "    p2 =  multiprocessing.Process(target=analysis_data,args=(queue,))\n",
    "    \n",
    "\n",
    "    p1.start()\n",
    "    p2.start()\n",
    "    \n",
    "if __name__ == \"__main__\":\n",
    "    # jupyter 的原故，这里起动进程没有什么显示，打代码放到pychar就有结果了\n",
    "    main()\n"
   ]
  },
  {
   "cell_type": "markdown",
   "metadata": {},
   "source": [
    "进程池"
   ]
  },
  {
   "cell_type": "code",
   "execution_count": 1,
   "metadata": {},
   "outputs": [
    {
     "name": "stdout",
     "output_type": "stream",
     "text": [
      "------end------\n"
     ]
    }
   ],
   "source": [
    "import time\n",
    "import os\n",
    "import multiprocessing\n",
    "\n",
    "def work(index):\n",
    "    print(\"proccess：{}, index：{} is finished\".format(os.getpid(), index))\n",
    "    time.sleep(3)\n",
    "\n",
    "\n",
    "if __name__ == \"__main__\":\n",
    "    \"\"\"\n",
    "    在windows中, 创建进程由于没有folk创建进程, 所以是通过重载自身模块来创建的, \n",
    "    如果Pool放在if __name__ == \"__main__\"外部, 就会进行无限递归\n",
    "    \n",
    "    代码在jupyter中没有效果\n",
    "    \"\"\"\n",
    "    pool = multiprocessing.Pool(3)  # 最多开辟3个进程\n",
    "    for i in range(10):\n",
    "        pool.apply_async(work, (i,))  # 向池子添加任务\n",
    "#     pool.close()  # 关闭进程池，不再接受新的请求\n",
    "#     pool.join()  # 等待所有子进程运行结束,必须放在close之后\n",
    "    print(\"------end------\")\n",
    "    "
   ]
  },
  {
   "cell_type": "markdown",
   "metadata": {},
   "source": [
    "多进程的queue、锁\n",
    "\n",
    "import queque 普通的队列，在多进程中没用\n",
    "multiprocessing.Queue()  可在多进程中使用，但不可以在进程池中使用\n",
    "multiprocessing.Manager().Queue()  可以在进程池中使用\n",
    "\n",
    "多进程的锁也是一样\n",
    "multiprocessing.Manager().Lock()  可以在进程池中使用"
   ]
  },
  {
   "cell_type": "markdown",
   "metadata": {},
   "source": []
  },
  {
   "cell_type": "markdown",
   "metadata": {},
   "source": [
    "迭代器"
   ]
  },
  {
   "cell_type": "code",
   "execution_count": 2,
   "metadata": {},
   "outputs": [
    {
     "name": "stdout",
     "output_type": "stream",
     "text": [
      "True\n",
      "张三\n",
      "李四\n",
      "王五\n"
     ]
    }
   ],
   "source": [
    "# 一个对象是否可迭代，主要看是否派生自Iterable\n",
    "from collections import Iterable\n",
    "print(isinstance(\"abcd\",Iterable))\n",
    "\n",
    "# 要实现一个可迭代的对象，必须实现__iter__方法，__iter__方法的返回值就是一个迭代器，要实现一个迭代器，又必须同时实现__iter__和__next__方\n",
    "# 法\n",
    "\n",
    "class Workmate(object):\n",
    "    \n",
    "    def __init__(self):\n",
    "        self.names = list()\n",
    "        self.index = 0\n",
    "    def add(self,name):\n",
    "        self.names.append(name)\n",
    "        \n",
    "    def __iter__(self): # 会被 iter()方法自动调用，遍历的时候也会被自动调用，返回一个可迭代的对像，Workmate自身就是可迭代的\n",
    "        return self\n",
    "    \n",
    "    def __next__(self):   # 会被 next()方法自动调用，注意这里会存在下标越界问题，要判断是否小于len\n",
    "        if self.index < len(self.names):\n",
    "            ret = self.names[self.index]  \n",
    "            self.index += 1\n",
    "            return ret\n",
    "        else: # 在循环中，__next__会一直被调用，就算下标越界了，它也不知道什么时候停止，所以一定要抛出StopIteration异常，for循环才会停\n",
    "            raise StopIteration\n",
    "\n",
    "\n",
    "\n",
    "workmate = Workmate()\n",
    "workmate.add(\"张三\")\n",
    "workmate.add(\"李四\")\n",
    "workmate.add(\"王五\")\n",
    "    \n",
    "for temp in workmate:\n",
    "    print(temp)"
   ]
  },
  {
   "cell_type": "code",
   "execution_count": null,
   "metadata": {},
   "outputs": [],
   "source": []
  },
  {
   "cell_type": "markdown",
   "metadata": {},
   "source": [
    "生成器，是一种特殊的迭代器\n",
    "方式1 把列表推导式的中括号换成小括号，就得到了一个生成器   "
   ]
  },
  {
   "cell_type": "code",
   "execution_count": 9,
   "metadata": {},
   "outputs": [
    {
     "name": "stdout",
     "output_type": "stream",
     "text": [
      "0\n",
      "1\n",
      "2\n",
      "3\n",
      "4\n",
      "5\n",
      "6\n",
      "7\n",
      "8\n",
      "9\n"
     ]
    }
   ],
   "source": [
    "ls = [x for x in range(10)]  # 这种形式很占空间\n",
    "temp =(x for x in range(10)) # 这种形式不占空间\n",
    "for num in temp:\n",
    "    print(num)"
   ]
  },
  {
   "cell_type": "markdown",
   "metadata": {},
   "source": [
    "方式2 只要方法里面有yield，就是一个生成器\n",
    "\n",
    "如果这种方式生成的生成器里面有return一个结果，通常这个结果是拿不到的，通过next()一直迭代下去，到最后会报异常，try之后拿到异常对像ex\n",
    "通过ex.value可以拿到return的结果"
   ]
  },
  {
   "cell_type": "code",
   "execution_count": 2,
   "metadata": {
    "scrolled": true
   },
   "outputs": [],
   "source": [
    "def fibonacii(number):\n",
    "    \"\"\"用生成器来生成斐波那契数列\"\"\"\n",
    "    a, b = 0, 1\n",
    "    counter = 0\n",
    "    while counter < number:\n",
    "        yield a\n",
    "        a, b = b, a + b\n",
    "        counter += 1\n",
    "        \n",
    "temp = fibonnacii(10)  # 这里就变成了创建生成器，而不是调用普通函数\n",
    "for _ in temp:\n",
    "    #print(_)\n",
    "    pass"
   ]
  },
  {
   "cell_type": "markdown",
   "metadata": {},
   "source": [
    "除了next()方法可以调用用yield生成的生成器，send()也可以调用生成器，并且可以向生成器传入参数。但，send()方法首次调用生成器传参只能传None，否则会报错。"
   ]
  },
  {
   "cell_type": "code",
   "execution_count": 8,
   "metadata": {},
   "outputs": [
    {
     "name": "stdout",
     "output_type": "stream",
     "text": [
      "0\n",
      "ret =  hello world\n",
      "1\n"
     ]
    }
   ],
   "source": [
    "def fibonacii(number):\n",
    "    \"\"\"用生成器来生成斐波那契数列\"\"\"\n",
    "    a, b = 0, 1\n",
    "    counter = 0\n",
    "    while counter < number:\n",
    "        ret  = yield a\n",
    "        print(\"ret = \", ret)\n",
    "        a, b = b, a + b\n",
    "        counter += 1\n",
    "        \n",
    "        \n",
    "obj = fibonacii(10)\n",
    "# print(obj.send(\"your args\"))  会报错，因为没有任何变量去接send()传入的参数\n",
    "print(next(obj)) \n",
    "result = obj.send(\"hello world\") \n",
    "# 在第一次调next()之后，程序在yield a处将值传出并暂停，send将参数传入给里面的ret，然后程序继续往前走，\n",
    "# (你可以用拿到的参数修改原业务，不修改也可以)。在下一次yield a的时候，参值返回给外面，同时将a的值赋给ret，所以send的返回值是1\n",
    "print(result)\n"
   ]
  },
  {
   "cell_type": "code",
   "execution_count": null,
   "metadata": {},
   "outputs": [],
   "source": [
    "用yield实现多任务(假的多线程)"
   ]
  },
  {
   "cell_type": "code",
   "execution_count": null,
   "metadata": {},
   "outputs": [],
   "source": [
    "import time\n",
    "def task_1():\n",
    "    while True:\n",
    "        print(\"--------task_1-----------\")\n",
    "        time.sleep(1)\n",
    "        yield # 重点是这里\n",
    "        \n",
    "def task_2():\n",
    "    while True:\n",
    "        print(\"--------task_2-----------\")\n",
    "        time.sleep(1)\n",
    "        yield\n",
    "        \n",
    "def main():\n",
    "    t1 = task_1()\n",
    "    t2 = task_2()\n",
    "    while True:\n",
    "        next(t1)\n",
    "        next(t2)\n",
    "    "
   ]
  },
  {
   "cell_type": "markdown",
   "metadata": {},
   "source": [
    "greenlet实现多任务--知道可以这么用而矣"
   ]
  },
  {
   "cell_type": "code",
   "execution_count": 3,
   "metadata": {},
   "outputs": [],
   "source": [
    "from greenlet import greenlet\n",
    "import time\n",
    "\n",
    "def task1():\n",
    "    while True:\n",
    "        print(\"task1\")\n",
    "        g2.switch()\n",
    "        time.sleep(1)\n",
    "        \n",
    "def task2():\n",
    "    while True:\n",
    "        print(\"task2\")\n",
    "        g1.switch()\n",
    "        time.sleep(1)\n",
    "        \n",
    "g1 = greenlet(task1)\n",
    "g2 = greenlet(task2)\n",
    "# 切换到g1中运行\n",
    "g1.switch()\n"
   ]
  },
  {
   "cell_type": "markdown",
   "metadata": {},
   "source": [
    "gevent实现多任务（重点）,gevent是对greenlet的进一步封装！  \n",
    "gevent一遇到耗时操作(gevent.sleep(1))，就会马上切换到下一个任务。  \n",
    "如果不想用gevent.sleep()，要给代码先打包。"
   ]
  },
  {
   "cell_type": "code",
   "execution_count": 2,
   "metadata": {},
   "outputs": [],
   "source": [
    "import gevent\n",
    "import time\n",
    "from gevent import monkey\n",
    "import random\n",
    "\n",
    "# 打包代码，将程序中所有耗时操作替换为gevent自己的实现，如time.sleep(1)会变成 gevent.sleep(1)\n",
    "monkey.patch_all()\n",
    "\n",
    "def task(n):\n",
    "    for i in range(5):\n",
    "        print(n, i)\n",
    "        time.sleep(0.5)\n",
    "\n",
    "# joinall 启动任务并等等所有任务运行完 如C#中的Task,WaitAll是一个意思\n",
    "gevent.joinall([ \n",
    "    gevent.spawn(task,\"task1\"),# 新建任务并启动\n",
    "    gevent.spawn(task,\"task2\"),\n",
    "    gevent.spawn(task,\"task3\")\n",
    "])\n"
   ]
  },
  {
   "cell_type": "code",
   "execution_count": null,
   "metadata": {},
   "outputs": [],
   "source": []
  },
  {
   "cell_type": "markdown",
   "metadata": {},
   "source": [
    "python中的属性"
   ]
  },
  {
   "cell_type": "code",
   "execution_count": null,
   "metadata": {},
   "outputs": [],
   "source": [
    "class Person(object):\n",
    "    def __init__(self, age):\n",
    "            self.__age = age\n",
    "    \n",
    "    @property\n",
    "    def age(self):\n",
    "        return self.__age\n",
    "    \n",
    "    @age.setter\n",
    "    def age(self,value):\n",
    "        self.__age = value\n",
    "        \n",
    "    @age.deleter   # 删除属性，一般不写，除非有特征需求\n",
    "    def age(self):\n",
    "        del self.__age\n",
    "    \n",
    "    \n",
    "p = Person(20)\n",
    "p.age\n",
    "p.age = 30\n",
    "p.age\n",
    "# del p.age\n",
    "# p.age"
   ]
  },
  {
   "cell_type": "code",
   "execution_count": 12,
   "metadata": {},
   "outputs": [],
   "source": [
    "# 这种实现，get_age、set_age 方法是可以通过实例直接调用\n",
    "class Person(object):\n",
    "    def __init__(self, age):\n",
    "            self.__age = age\n",
    "    \n",
    "    def get_age(self):\n",
    "        return self.__age\n",
    "    \n",
    "    \n",
    "    def set_age(self,value):\n",
    "        self.__age = value\n",
    "    \n",
    "    age = property(get_age, set_age, None, \"doc_string of age property\") # 第三个参数为删除属性的方法\n",
    "    \n",
    "p = Person(20)\n",
    "p.age\n",
    "p.age = 30\n",
    "# p.set_age(50)\n",
    "p.age"
   ]
  },
  {
   "cell_type": "code",
   "execution_count": null,
   "metadata": {},
   "outputs": [],
   "source": []
  },
  {
   "cell_type": "markdown",
   "metadata": {},
   "source": [
    "with---上下文管理器：只要实现了 __enter__()、__exit__()方法的类型，就是上下文管理器"
   ]
  },
  {
   "cell_type": "code",
   "execution_count": 24,
   "metadata": {},
   "outputs": [
    {
     "name": "stdout",
     "output_type": "stream",
     "text": [
      "退出方法被调用\n"
     ]
    }
   ],
   "source": [
    "class MyWith(object):\n",
    "    \"\"\"自定义上下文管理器\"\"\"\n",
    "    def __init__(self, file_name, mode):\n",
    "        self.file_name = file_name\n",
    "        self.mode = mode\n",
    "        \n",
    "    def __enter__(self):\n",
    "        self.f = open(self.file_name, self.mode)\n",
    "        return self.f\n",
    "    \n",
    "    def __exit__(self, type_, value, stack_trace): # 后面3个参数与处理异常有关，暂时不展开\n",
    "        print(\"退出方法被调用\")\n",
    "        self.f.close()\n",
    "        \n",
    "with MyWith(\"Interview.txt\", \"r\") as f:\n",
    "    print(f.readline())\n",
    "    "
   ]
  },
  {
   "cell_type": "code",
   "execution_count": 23,
   "metadata": {},
   "outputs": [],
   "source": [
    "# 更简捷的实现方式\n",
    "from contextlib import contextmanager\n",
    "@contextmanager\n",
    "def my_with(path, mode):\n",
    "    f = open(path, mode)\n",
    "    yield f\n",
    "    f.close()\n",
    "    \n",
    "with my_with(\"Interview.txt\", \"r\") as f:\n",
    "    print(f.readline())"
   ]
  },
  {
   "cell_type": "code",
   "execution_count": null,
   "metadata": {},
   "outputs": [],
   "source": []
  },
  {
   "cell_type": "code",
   "execution_count": null,
   "metadata": {},
   "outputs": [],
   "source": [
    "\"\"\"\n",
    "通过字符串变量导入模块\n",
    "temp =\"your_module\"\n",
    "通过一个字符串变量名来表示导入的模块名，用import来导入，肯定会报错\n",
    "import temp  # 会变成程序以为要导入 temp模块\n",
    "这种情况要通过  __import__(temp) 来导入\n",
    "module =  __import__(temp) # module  就是temp所要的模块\n",
    "通过 getattr()可以获取模块中的成员\n",
    "func = getattr(module, \"function_name\")\n",
    "func()  # 可以调用\n",
    "\"\"\""
   ]
  },
  {
   "cell_type": "code",
   "execution_count": null,
   "metadata": {},
   "outputs": [],
   "source": []
  },
  {
   "cell_type": "code",
   "execution_count": null,
   "metadata": {},
   "outputs": [],
   "source": [
    "# 闭包---直接方程 y = kx + b\n",
    "# 闭包通常是一个函数里面套一个(或多个)函数，返回值是里面的函数，而里面的函数通常会使用到外面函数的参数\n",
    "# 里面函数的整个空间，就形成一个闭包，闭包会将外面函数的形参给固定下来\n",
    "\n",
    "# 函数与闭包的区别：函数只有对数据处理的逻辑，没有数据，而闭包包含了对数据处理的逻辑以及数据\n",
    "\n",
    "def line(k, b):\n",
    "    def y(x):\n",
    "        print(k * x +b)\n",
    "    return y\n",
    "\n",
    "l = line(2, 3)  #传入的 2,3会被固定在内容函数y里面\n",
    "l(3)\n",
    "\n",
    "\n",
    "# 想要修改闭包外面的函数的局部变量，要用nonlocal\n",
    "\n",
    "def test1():\n",
    "    x = 200\n",
    "    def test2():\n",
    "        nonlocal x  #  python2 没有nonlocal\n",
    "        print(\"-------1-------x=%d\" % x)\n",
    "        x = 100 # 修改\n",
    "        print(\"-------1-------x=%d\" % x)\n",
    "    return test2\n",
    "\n",
    "t1 = test1()\n",
    "t1()\n"
   ]
  },
  {
   "cell_type": "code",
   "execution_count": null,
   "metadata": {},
   "outputs": [],
   "source": []
  },
  {
   "cell_type": "markdown",
   "metadata": {},
   "source": [
    "装饰器的演变过程"
   ]
  },
  {
   "cell_type": "code",
   "execution_count": 30,
   "metadata": {},
   "outputs": [
    {
     "name": "stdout",
     "output_type": "stream",
     "text": [
      "mark the log\n",
      "30\n"
     ]
    }
   ],
   "source": [
    "#装饰器演变过程1\n",
    "#  4(即x参数)已经被固定在闭包中了,并且new_add的返回值是一个函数\n",
    "# def add(a,b):\n",
    "#     return a+b\n",
    "\n",
    "# def new_add(x):\n",
    "#     def inner(y):\n",
    "#         return x + y\n",
    "#     return inner\n",
    "\n",
    "\n",
    "# foo = new_add(4)\n",
    "# ret = foo(5)\n",
    "# print(ret)\n",
    "\n",
    "        \n",
    "#装饰器演变过程2\n",
    "#把add函数作为参数，传给了logger函数，logger函数用wrapper对add进行了加工(没有改变add的原有功能)，且logger的返回\n",
    "#值是一个函数wrapper,而wrapper内部是肯定会执行add函数的\n",
    "\n",
    "# def looger(fn):\n",
    "#     def wrapper(*args, **kwargs):\n",
    "#         print(\"mark the log\")\n",
    "#         return fn(*args, **kwargs)\n",
    "#         #print(\"or do sth\")\n",
    "#     return wrapper\n",
    "    \n",
    "# def add(a,b):\n",
    "#     return a+b\n",
    "\n",
    "# foo = looger(add)\n",
    "# print(foo(10,10))\n",
    "\n",
    "\n",
    "#装饰器演变过程3\n",
    "#将add 传给logger的时候，add已经被固定在logger的wrapper中了，然后logger返回的是一个函数，也就是左边的add已经是一个被增强过的add了\n",
    "\n",
    "# add = looger(add)  # 但是这样写很low\n",
    "# add(10,20)\n",
    "            \n",
    "    \n",
    "#装饰器演变过程4\n",
    "def logger(fn):\n",
    "    def wrapper(*args, **kwargs): # 这里是定义有可变参数，写可变参数只是为了方便点，也可以随机定义形参与add参数对应就可以了\n",
    "        print(\"mark the log\")\n",
    "        return fn(*args, **kwargs) # 这里是把可变参数解出来，传给fn，即add(a, b)\n",
    "        #print(\"or do sth\")\n",
    "    return wrapper\n",
    "\n",
    "@logger  # 等价于： add = logger(add)\n",
    "def add(a,b):\n",
    "    return a + b    \n",
    "\n",
    "\n",
    "print(add(10,20))"
   ]
  },
  {
   "cell_type": "code",
   "execution_count": null,
   "metadata": {},
   "outputs": [],
   "source": []
  },
  {
   "cell_type": "code",
   "execution_count": 32,
   "metadata": {},
   "outputs": [],
   "source": [
    "# 用装饰器去装饰类，可实现修改类的功能\n",
    "def set_property():\n",
    "    def wrapper(cls):\n",
    "        cls.name = None  # i添加了一个类变量 name\n",
    "        return cls\n",
    "    return wrapper\n",
    "    \n",
    "    \n",
    "@set_property()\n",
    "class Person:\n",
    "    def __init__(self):\n",
    "        pass\n",
    "        "
   ]
  },
  {
   "cell_type": "code",
   "execution_count": 49,
   "metadata": {},
   "outputs": [
    {
     "name": "stdout",
     "output_type": "stream",
     "text": [
      "30\n"
     ]
    }
   ],
   "source": [
    "# 用类作为装饰器，可以利用__call__ 方法，对数据进行加工，使用场景少，了解即可。\n",
    "\n",
    "class Person():\n",
    "    def __init__(self, fn):\n",
    "        self.fn = fn\n",
    "        \n",
    "    def __call__(self, *args, **kwargs):\n",
    "        # 本列中没有加工，可以添加加工的逻辑\n",
    "        return self.fn(*args, **kwargs)\n",
    "\n",
    "@Person\n",
    "def add(a, b):\n",
    "    return a + b\n",
    "\n",
    "ret = add(10, 20) # 相当于调用  __call__()\n",
    "print(ret)"
   ]
  },
  {
   "cell_type": "code",
   "execution_count": null,
   "metadata": {},
   "outputs": [],
   "source": []
  },
  {
   "cell_type": "code",
   "execution_count": 8,
   "metadata": {},
   "outputs": [
    {
     "name": "stdout",
     "output_type": "stream",
     "text": [
      "check authoright\n",
      "30\n"
     ]
    }
   ],
   "source": [
    "# 带参数的装饰器\n",
    "def logger(level):\n",
    "    def log(fn):\n",
    "        def wrapper(*args, **kwargs): \n",
    "            if level == 1:\n",
    "                print(\"mark the log\")\n",
    "            elif level == 2 :\n",
    "                print(\"check authoright\")\n",
    "            return fn(*args, **kwargs)\n",
    "        return wrapper\n",
    "    return log  # logger的返回值\n",
    "\n",
    "@logger(2)  # 这里就变成了两步：1、调logger并传递实参；2、拿到logger的返回值(即log)对add函数进行装饰\n",
    "def add(a,b):\n",
    "    return a + b   \n",
    "\n",
    "print(add(10,20))"
   ]
  },
  {
   "cell_type": "code",
   "execution_count": null,
   "metadata": {},
   "outputs": [],
   "source": []
  },
  {
   "cell_type": "code",
   "execution_count": null,
   "metadata": {},
   "outputs": [],
   "source": [
    "# 解耦因参数不一样，调用的方不一样\n",
    "\n",
    "def test01():\n",
    "    pass\n",
    "\n",
    "def test02():\n",
    "    pass\n",
    "\n",
    "def test03():\n",
    "    pass\n",
    "\n",
    "\n",
    "def main():\n",
    "    \n",
    "    func_name =\"test01\" # input(\"请输入\")\n",
    "    if func_name == \"test01\":\n",
    "        test01()\n",
    "    elif func_name == \"test01\":\n",
    "        test02()    \n",
    "    elif func_name == \"test01\":\n",
    "        test03()\n",
    "    else:\n",
    "        pass\n",
    "    \n",
    "    # 这样写在实现上没有问题，但如果有100个函数，就有100个if\n",
    "    \n",
    "    \n",
    "FUNCTIONS = {\n",
    "    'test04':test04,\n",
    "    'test05':test05,\n",
    "    'test06':test06\n",
    "}\n",
    "    \n",
    "def test04():\n",
    "    pass\n",
    "\n",
    "def test05():\n",
    "    pass\n",
    "\n",
    "def test06():\n",
    "    pass    \n",
    "    \n",
    "def main():\n",
    "    func_name =\"test04\" # input(\"请输入\")\n",
    "    FUNCTIONS[func_name]() #用字典存起函数引用，将来索引调用\n"
   ]
  },
  {
   "cell_type": "code",
   "execution_count": null,
   "metadata": {},
   "outputs": [],
   "source": []
  },
  {
   "cell_type": "code",
   "execution_count": null,
   "metadata": {},
   "outputs": [],
   "source": []
  },
  {
   "cell_type": "code",
   "execution_count": null,
   "metadata": {},
   "outputs": [],
   "source": []
  }
 ],
 "metadata": {
  "kernelspec": {
   "display_name": "Python 3",
   "language": "python",
   "name": "python3"
  },
  "language_info": {
   "codemirror_mode": {
    "name": "ipython",
    "version": 3
   },
   "file_extension": ".py",
   "mimetype": "text/x-python",
   "name": "python",
   "nbconvert_exporter": "python",
   "pygments_lexer": "ipython3",
   "version": "3.6.4"
  }
 },
 "nbformat": 4,
 "nbformat_minor": 2
}
