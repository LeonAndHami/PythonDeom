{
 "cells": [
  {
   "cell_type": "markdown",
   "metadata": {},
   "source": [
    "socket编程"
   ]
  },
  {
   "cell_type": "code",
   "execution_count": null,
   "metadata": {},
   "outputs": [],
   "source": [
    "import socket\n",
    "\n",
    "# tcp\n",
    "sk_tcp = socket.socket(socket.AF_INET,socket.SOCK_STREAM)\n",
    "#upd\n",
    "sk_udp = socket.socket(socket.AF_INET,socket.SOCK_DGRAM)\n",
    "\n",
    "\n",
    "sk_tcp.close()\n",
    "\n",
    "sk_udp.close()"
   ]
  },
  {
   "cell_type": "markdown",
   "metadata": {},
   "source": [
    "关于线程的使用"
   ]
  },
  {
   "cell_type": "code",
   "execution_count": 7,
   "metadata": {},
   "outputs": [
    {
     "name": "stdout",
     "output_type": "stream",
     "text": [
      "[1, 2, 3]\n",
      "10\n"
     ]
    }
   ],
   "source": [
    "import threading\n",
    "\n",
    "\n",
    "def say_sth(sth,num):\n",
    "    print(sth)\n",
    "    print(num)\n",
    "    \n",
    "    \n",
    "#创建线程并启动\n",
    "t = threading.Thread(target=say_sth,args=([1,2,3],10))\n",
    "t.start()\n",
    "\n",
    "# #获取当前(进程)所有线程\n",
    "# print(threading.enumerate())\n",
    "\n",
    "\n",
    "\n",
    "class YourClass(threading.Thread):\n",
    "    #继承Thread类必须实现run方法，才能通过start方法来启动\n",
    "    def run(self):\n",
    "        print(\"do your job\")\n",
    "\n",
    "\n",
    "        \n",
    "# t = YourClass()\n",
    "# t.start()\n"
   ]
  },
  {
   "cell_type": "markdown",
   "metadata": {},
   "source": [
    "使用锁解决资源竞争问题"
   ]
  },
  {
   "cell_type": "code",
   "execution_count": 19,
   "metadata": {},
   "outputs": [
    {
     "name": "stdout",
     "output_type": "stream",
     "text": [
      "g_number in method1 is  1000000\n",
      "g_number in method2 is  2000000\n",
      "g_number in main thread is  2000000\n"
     ]
    }
   ],
   "source": [
    "import threading\n",
    "g_number = 0\n",
    "\n",
    "def method1(num):\n",
    "    global g_number\n",
    "    mutex.acquire()\n",
    "    for i in range(num):\n",
    "        g_number += 1   \n",
    "    print(\"g_number in method1 is \",g_number)\n",
    "    mutex.release()\n",
    "    \n",
    "def method2(num):\n",
    "    global g_number\n",
    "    mutex.acquire()\n",
    "    for i in range(num):\n",
    "        g_number += 1\n",
    "    print(\"g_number in method2 is \",g_number)\n",
    "    mutex.release()\n",
    "    \n",
    "mutex = threading.Lock()\n",
    "t1 = threading.Thread(target=method1,args=(1000000,))\n",
    "t2 = threading.Thread(target=method2,args=(1000000,))\n",
    "t1.start()\n",
    "t2.start()\n",
    "\n",
    "t1.join()\n",
    "t2.join()\n",
    "print(\"g_number in main thread is \",g_number)"
   ]
  },
  {
   "cell_type": "markdown",
   "metadata": {},
   "source": [
    "上锁的代码要尽可能少"
   ]
  },
  {
   "cell_type": "code",
   "execution_count": 21,
   "metadata": {},
   "outputs": [
    {
     "name": "stdout",
     "output_type": "stream",
     "text": [
      "g_number in method1 is  1951472\n",
      "g_number in method2 is  2000000\n",
      "g_number in main thread is  2000000\n"
     ]
    }
   ],
   "source": [
    "import threading\n",
    "g_number = 0\n",
    "\n",
    "def method1(num):\n",
    "    global g_number\n",
    "    for i in range(num):\n",
    "        # 上锁的代码要尽可能少\n",
    "        mutex.acquire()\n",
    "        g_number += 1   \n",
    "        mutex.release()\n",
    "    print(\"g_number in method1 is \",g_number)\n",
    "    \n",
    "    \n",
    "def method2(num):\n",
    "    global g_number\n",
    "    \n",
    "    for i in range(num):\n",
    "        mutex.acquire()\n",
    "        g_number += 1\n",
    "        mutex.release()\n",
    "    print(\"g_number in method2 is \",g_number)\n",
    "    \n",
    "    \n",
    "mutex = threading.Lock()\n",
    "t1 = threading.Thread(target=method1,args=(1000000,))\n",
    "t2 = threading.Thread(target=method2,args=(1000000,))\n",
    "t1.start()\n",
    "t2.start()\n",
    "\n",
    "t1.join()\n",
    "t2.join()\n",
    "print(\"g_number in main thread is \",g_number)"
   ]
  },
  {
   "cell_type": "markdown",
   "metadata": {},
   "source": [
    "队列的使用----多进程共享数据"
   ]
  },
  {
   "cell_type": "code",
   "execution_count": 2,
   "metadata": {},
   "outputs": [],
   "source": [
    "import multiprocessing\n",
    "q = multiprocessing.Queue()  # 设定队列大小，一般不指定\n",
    "q.put(2) # 如果满了会阻塞\n",
    "q.put_nowait(3) # 不阻塞，满了会报异常\n",
    "q.get() # 如果空会阻塞\n",
    "q.get_nowait()  # 空了不会阻塞，但会报错\n",
    "q.empty() # 空判断\n",
    "q.full()  # 满判断\n",
    "\n"
   ]
  },
  {
   "cell_type": "code",
   "execution_count": 4,
   "metadata": {},
   "outputs": [],
   "source": [
    "import multiprocessing\n",
    "def down_load_data(queue):\n",
    "    # 模拟从网络下载数据\n",
    "    data = [1,2,3,4,5]\n",
    "    for _ in data:\n",
    "        queue.put(_)\n",
    "    print(\"data is ok\")\n",
    "    \n",
    "\n",
    "def analysis_data(queue):\n",
    "    # 模拟分析数据\n",
    "    data = list()\n",
    "    while not queue.empty():\n",
    "        data.append(queue.get())\n",
    "    print(\"data analysis ok\")\n",
    "    print(data)\n",
    "\n",
    "def main():\n",
    "    queue = multiprocessing.Queue()\n",
    "    p1 =  multiprocessing.Process(target=down_load_data,args=(queue,))\n",
    "    p2 =  multiprocessing.Process(target=analysis_data,args=(queue,))\n",
    "    \n",
    "\n",
    "    p1.start()\n",
    "    p2.start()\n",
    "    \n",
    "if __name__ == \"__main__\":\n",
    "    # jupyter 的原故，这里起动进程没有什么显示，打代码放到pychar就有结果了\n",
    "    main()\n"
   ]
  },
  {
   "cell_type": "markdown",
   "metadata": {},
   "source": [
    "进程池"
   ]
  },
  {
   "cell_type": "code",
   "execution_count": 1,
   "metadata": {},
   "outputs": [
    {
     "name": "stdout",
     "output_type": "stream",
     "text": [
      "------end------\n"
     ]
    }
   ],
   "source": [
    "import time\n",
    "import os\n",
    "import multiprocessing\n",
    "\n",
    "def work(index):\n",
    "    print(\"proccess：{}, index：{} is finished\".format(os.getpid(), index))\n",
    "    time.sleep(3)\n",
    "\n",
    "\n",
    "if __name__ == \"__main__\":\n",
    "    \"\"\"\n",
    "    在windows中, 创建进程由于没有folk创建进程, 所以是通过重载自身模块来创建的, \n",
    "    如果Pool放在if __name__ == \"__main__\"外部, 就会进行无限递归\n",
    "    \n",
    "    代码在jupyter中没有效果\n",
    "    \"\"\"\n",
    "    pool = multiprocessing.Pool(3)  # 最多开辟3个进程\n",
    "    for i in range(10):\n",
    "        pool.apply_async(work, (i,))  # 向池子添加任务\n",
    "#     pool.close()  # 关闭进程池，不再接受新的请求\n",
    "#     pool.join()  # 等待所有子进程运行结束,必须放在close之后\n",
    "    print(\"------end------\")\n",
    "    "
   ]
  },
  {
   "cell_type": "markdown",
   "metadata": {},
   "source": [
    "多进程的queue、锁\n",
    "\n",
    "import queque 普通的队列，在多进程中没用\n",
    "multiprocessing.Queue()  可在多进程中使用，但不可以在进程池中使用\n",
    "multiprocessing.Manager().Queue()  可以在进程池中使用\n",
    "\n",
    "多进程的锁也是一样\n",
    "multiprocessing.Manager().Lock()  可以在进程池中使用"
   ]
  },
  {
   "cell_type": "markdown",
   "metadata": {},
   "source": []
  },
  {
   "cell_type": "markdown",
   "metadata": {},
   "source": [
    "迭代器"
   ]
  },
  {
   "cell_type": "code",
   "execution_count": 15,
   "metadata": {},
   "outputs": [
    {
     "name": "stdout",
     "output_type": "stream",
     "text": [
      "True\n",
      "张三\n",
      "李四\n",
      "王五\n"
     ]
    }
   ],
   "source": [
    "# 一个对象是否可迭代，主要看是否派生自Iterable\n",
    "from collections import Iterable\n",
    "print(isinstance(\"abcd\",Iterable))\n",
    "\n",
    "# 要实现一个可迭代的对象，必须实现__iter__方法，__iter__方法的返回值就是一个迭代器，要实现一个迭代器，又必须同时实现__iter__和__next__方\n",
    "# 法\n",
    "\n",
    "class Workmate(object):\n",
    "    \n",
    "    def __init__(self):\n",
    "        self.names = list()\n",
    "        self.index = 0\n",
    "    def add(self,name):\n",
    "        self.names.append(name)\n",
    "        \n",
    "    def __iter__(self): # 会被 iter()方法自动调用，遍历的时候也会被自动调用，返回一个可迭代的对像，Workmate自身就是可迭代的\n",
    "        return self\n",
    "    \n",
    "    def __next__(self):   # 会被 next()方法自动调用，注意这里会存在下标越界问题，要判断是否小于len\n",
    "        if self.index < len(self.names):\n",
    "            ret = self.names[self.index]  \n",
    "            self.index += 1\n",
    "            return ret\n",
    "        else: # 在循环中，__next__会一直被调用，就算下标越界了，它也不知道什么时候停止，所以一定要抛出StopIteration异常，for循环才会停\n",
    "            raise StopIteration\n",
    "\n",
    "\n",
    "\n",
    "workmate = Workmate()\n",
    "workmate.add(\"张三\")\n",
    "workmate.add(\"李四\")\n",
    "workmate.add(\"王五\")\n",
    "    \n",
    "for temp in workmate:\n",
    "    print(temp)"
   ]
  }
 ],
 "metadata": {
  "kernelspec": {
   "display_name": "Python 3",
   "language": "python",
   "name": "python3"
  },
  "language_info": {
   "codemirror_mode": {
    "name": "ipython",
    "version": 3
   },
   "file_extension": ".py",
   "mimetype": "text/x-python",
   "name": "python",
   "nbconvert_exporter": "python",
   "pygments_lexer": "ipython3",
   "version": "3.6.4"
  }
 },
 "nbformat": 4,
 "nbformat_minor": 2
}
