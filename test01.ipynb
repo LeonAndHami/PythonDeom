{
 "cells": [
  {
   "cell_type": "markdown",
   "metadata": {},
   "source": [
    "socket编程"
   ]
  },
  {
   "cell_type": "code",
   "execution_count": null,
   "metadata": {},
   "outputs": [],
   "source": [
    "import socket\n",
    "\n",
    "# tcp\n",
    "sk_tcp = socket.socket(socket.AF_INET,socket.SOCK_STREAM)\n",
    "#upd\n",
    "sk_udp = socket.socket(socket.AF_INET,socket.SOCK_DGRAM)\n",
    "\n",
    "\n",
    "sk_tcp.close()\n",
    "\n",
    "sk_udp.close()"
   ]
  },
  {
   "cell_type": "markdown",
   "metadata": {},
   "source": [
    "关于线程的使用"
   ]
  },
  {
   "cell_type": "code",
   "execution_count": 7,
   "metadata": {},
   "outputs": [
    {
     "name": "stdout",
     "output_type": "stream",
     "text": [
      "[1, 2, 3]\n",
      "10\n"
     ]
    }
   ],
   "source": [
    "import threading\n",
    "\n",
    "\n",
    "def say_sth(sth,num):\n",
    "    print(sth)\n",
    "    print(num)\n",
    "    \n",
    "    \n",
    "#创建线程并启动\n",
    "t = threading.Thread(target=say_sth,args=([1,2,3],10))\n",
    "t.start()\n",
    "\n",
    "# #获取当前(进程)所有线程\n",
    "# print(threading.enumerate())\n",
    "\n",
    "\n",
    "\n",
    "class YourClass(threading.Thread):\n",
    "    #继承Thread类必须实现run方法，才能通过start方法来启动\n",
    "    def run(self):\n",
    "        print(\"do your job\")\n",
    "\n",
    "\n",
    "        \n",
    "# t = YourClass()\n",
    "# t.start()\n"
   ]
  },
  {
   "cell_type": "markdown",
   "metadata": {},
   "source": [
    "使用锁解决资源竞争问题"
   ]
  },
  {
   "cell_type": "code",
   "execution_count": 19,
   "metadata": {},
   "outputs": [
    {
     "name": "stdout",
     "output_type": "stream",
     "text": [
      "g_number in method1 is  1000000\n",
      "g_number in method2 is  2000000\n",
      "g_number in main thread is  2000000\n"
     ]
    }
   ],
   "source": [
    "import threading\n",
    "g_number = 0\n",
    "\n",
    "def method1(num):\n",
    "    global g_number\n",
    "    mutex.acquire()\n",
    "    for i in range(num):\n",
    "        g_number += 1   \n",
    "    print(\"g_number in method1 is \",g_number)\n",
    "    mutex.release()\n",
    "    \n",
    "def method2(num):\n",
    "    global g_number\n",
    "    mutex.acquire()\n",
    "    for i in range(num):\n",
    "        g_number += 1\n",
    "    print(\"g_number in method2 is \",g_number)\n",
    "    mutex.release()\n",
    "    \n",
    "mutex = threading.Lock()\n",
    "t1 = threading.Thread(target=method1,args=(1000000,))\n",
    "t2 = threading.Thread(target=method2,args=(1000000,))\n",
    "t1.start()\n",
    "t2.start()\n",
    "\n",
    "t1.join()\n",
    "t2.join()\n",
    "print(\"g_number in main thread is \",g_number)"
   ]
  },
  {
   "cell_type": "markdown",
   "metadata": {},
   "source": [
    "上锁的代码要尽可能少"
   ]
  },
  {
   "cell_type": "code",
   "execution_count": 21,
   "metadata": {},
   "outputs": [
    {
     "name": "stdout",
     "output_type": "stream",
     "text": [
      "g_number in method1 is  1951472\n",
      "g_number in method2 is  2000000\n",
      "g_number in main thread is  2000000\n"
     ]
    }
   ],
   "source": [
    "import threading\n",
    "g_number = 0\n",
    "\n",
    "def method1(num):\n",
    "    global g_number\n",
    "    for i in range(num):\n",
    "        # 上锁的代码要尽可能少\n",
    "        mutex.acquire()\n",
    "        g_number += 1   \n",
    "        mutex.release()\n",
    "    print(\"g_number in method1 is \",g_number)\n",
    "    \n",
    "    \n",
    "def method2(num):\n",
    "    global g_number\n",
    "    \n",
    "    for i in range(num):\n",
    "        mutex.acquire()\n",
    "        g_number += 1\n",
    "        mutex.release()\n",
    "    print(\"g_number in method2 is \",g_number)\n",
    "    \n",
    "    \n",
    "mutex = threading.Lock()\n",
    "t1 = threading.Thread(target=method1,args=(1000000,))\n",
    "t2 = threading.Thread(target=method2,args=(1000000,))\n",
    "t1.start()\n",
    "t2.start()\n",
    "\n",
    "t1.join()\n",
    "t2.join()\n",
    "print(\"g_number in main thread is \",g_number)"
   ]
  }
 ],
 "metadata": {
  "kernelspec": {
   "display_name": "Python 3",
   "language": "python",
   "name": "python3"
  },
  "language_info": {
   "codemirror_mode": {
    "name": "ipython",
    "version": 3
   },
   "file_extension": ".py",
   "mimetype": "text/x-python",
   "name": "python",
   "nbconvert_exporter": "python",
   "pygments_lexer": "ipython3",
   "version": "3.6.4"
  }
 },
 "nbformat": 4,
 "nbformat_minor": 2
}
