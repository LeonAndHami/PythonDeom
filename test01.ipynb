{
 "cells": [
  {
   "cell_type": "markdown",
   "metadata": {},
   "source": [
    "socket编程"
   ]
  },
  {
   "cell_type": "code",
   "execution_count": null,
   "metadata": {},
   "outputs": [],
   "source": [
    "import socket\n",
    "\n",
    "# tcp\n",
    "sk_tcp = socket.socket(socket.AF_INET,socket.SOCK_STREAM)\n",
    "#upd\n",
    "sk_udp = socket.socket(socket.AF_INET,socket.SOCK_DGRAM)\n",
    "\n",
    "\n",
    "sk_tcp.close()\n",
    "\n",
    "sk_udp.close()"
   ]
  },
  {
   "cell_type": "markdown",
   "metadata": {},
   "source": [
    "关于线程的使用"
   ]
  },
  {
   "cell_type": "code",
   "execution_count": 16,
   "metadata": {},
   "outputs": [
    {
     "name": "stdout",
     "output_type": "stream",
     "text": [
      "[1, 2, 3]\n",
      "10\n"
     ]
    }
   ],
   "source": [
    "import threading\n",
    "\n",
    "\n",
    "def say_sth(sth,num):\n",
    "    print(sth)\n",
    "    print(num)\n",
    "    \n",
    "    \n",
    "#创建线程并启动\n",
    "t = threading.Thread(target=say_sth,args=([1,2,3],10))\n",
    "t.start()\n",
    "\n",
    "# #获取当前(进程)所有线程\n",
    "# print(threading.enumerate())\n",
    "\n",
    "\n",
    "\n",
    "class YourClass(threading.Thread):\n",
    "    #继承Thread类必须实现run方法，才能通过start方法来启动\n",
    "    def run(self):\n",
    "        print(\"do your job\")\n",
    "\n",
    "\n",
    "        \n",
    "# t = YourClass()\n",
    "# t.start()\n"
   ]
  }
 ],
 "metadata": {
  "kernelspec": {
   "display_name": "Python 3",
   "language": "python",
   "name": "python3"
  },
  "language_info": {
   "codemirror_mode": {
    "name": "ipython",
    "version": 3
   },
   "file_extension": ".py",
   "mimetype": "text/x-python",
   "name": "python",
   "nbconvert_exporter": "python",
   "pygments_lexer": "ipython3",
   "version": "3.6.4"
  }
 },
 "nbformat": 4,
 "nbformat_minor": 2
}
