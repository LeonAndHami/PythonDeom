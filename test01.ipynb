{
 "cells": [
  {
   "cell_type": "markdown",
   "metadata": {},
   "source": [
    "socket编程"
   ]
  },
  {
   "cell_type": "code",
   "execution_count": null,
   "metadata": {},
   "outputs": [],
   "source": [
    "import socket\n",
    "\n",
    "# tcp\n",
    "sk_tcp = socket.socket(socket.AF_INET,socket.SOCK_STREAM)\n",
    "#upd\n",
    "sk_udp = socket.socket(socket.AF_INET,socket.SOCK_DGRAM)\n",
    "\n",
    "\n",
    "sk_tcp.close()\n",
    "\n",
    "sk_udp.close()"
   ]
  },
  {
   "cell_type": "markdown",
   "metadata": {},
   "source": [
    "关于线程的使用"
   ]
  },
  {
   "cell_type": "code",
   "execution_count": 7,
   "metadata": {},
   "outputs": [
    {
     "name": "stdout",
     "output_type": "stream",
     "text": [
      "[1, 2, 3]\n",
      "10\n"
     ]
    }
   ],
   "source": [
    "import threading\n",
    "\n",
    "\n",
    "def say_sth(sth,num):\n",
    "    print(sth)\n",
    "    print(num)\n",
    "    \n",
    "    \n",
    "#创建线程并启动\n",
    "t = threading.Thread(target=say_sth,args=([1,2,3],10))\n",
    "t.start()\n",
    "\n",
    "# #获取当前(进程)所有线程\n",
    "# print(threading.enumerate())\n",
    "\n",
    "\n",
    "\n",
    "class YourClass(threading.Thread):\n",
    "    #继承Thread类必须实现run方法，才能通过start方法来启动\n",
    "    def run(self):\n",
    "        print(\"do your job\")\n",
    "\n",
    "\n",
    "        \n",
    "# t = YourClass()\n",
    "# t.start()\n"
   ]
  },
  {
   "cell_type": "markdown",
   "metadata": {},
   "source": [
    "使用锁解决资源竞争问题"
   ]
  },
  {
   "cell_type": "code",
   "execution_count": 19,
   "metadata": {},
   "outputs": [
    {
     "name": "stdout",
     "output_type": "stream",
     "text": [
      "g_number in method1 is  1000000\n",
      "g_number in method2 is  2000000\n",
      "g_number in main thread is  2000000\n"
     ]
    }
   ],
   "source": [
    "import threading\n",
    "g_number = 0\n",
    "\n",
    "def method1(num):\n",
    "    global g_number\n",
    "    mutex.acquire()\n",
    "    for i in range(num):\n",
    "        g_number += 1   \n",
    "    print(\"g_number in method1 is \",g_number)\n",
    "    mutex.release()\n",
    "    \n",
    "def method2(num):\n",
    "    global g_number\n",
    "    mutex.acquire()\n",
    "    for i in range(num):\n",
    "        g_number += 1\n",
    "    print(\"g_number in method2 is \",g_number)\n",
    "    mutex.release()\n",
    "    \n",
    "mutex = threading.Lock()\n",
    "t1 = threading.Thread(target=method1,args=(1000000,))\n",
    "t2 = threading.Thread(target=method2,args=(1000000,))\n",
    "t1.start()\n",
    "t2.start()\n",
    "\n",
    "t1.join()\n",
    "t2.join()\n",
    "print(\"g_number in main thread is \",g_number)"
   ]
  },
  {
   "cell_type": "markdown",
   "metadata": {},
   "source": [
    "上锁的代码要尽可能少"
   ]
  },
  {
   "cell_type": "code",
   "execution_count": 21,
   "metadata": {},
   "outputs": [
    {
     "name": "stdout",
     "output_type": "stream",
     "text": [
      "g_number in method1 is  1951472\n",
      "g_number in method2 is  2000000\n",
      "g_number in main thread is  2000000\n"
     ]
    }
   ],
   "source": [
    "import threading\n",
    "g_number = 0\n",
    "\n",
    "def method1(num):\n",
    "    global g_number\n",
    "    for i in range(num):\n",
    "        # 上锁的代码要尽可能少\n",
    "        mutex.acquire()\n",
    "        g_number += 1   \n",
    "        mutex.release()\n",
    "    print(\"g_number in method1 is \",g_number)\n",
    "    \n",
    "    \n",
    "def method2(num):\n",
    "    global g_number\n",
    "    \n",
    "    for i in range(num):\n",
    "        mutex.acquire()\n",
    "        g_number += 1\n",
    "        mutex.release()\n",
    "    print(\"g_number in method2 is \",g_number)\n",
    "    \n",
    "    \n",
    "mutex = threading.Lock()\n",
    "t1 = threading.Thread(target=method1,args=(1000000,))\n",
    "t2 = threading.Thread(target=method2,args=(1000000,))\n",
    "t1.start()\n",
    "t2.start()\n",
    "\n",
    "t1.join()\n",
    "t2.join()\n",
    "print(\"g_number in main thread is \",g_number)"
   ]
  },
  {
   "cell_type": "markdown",
   "metadata": {},
   "source": [
    "队列的使用----多进程共享数据"
   ]
  },
  {
   "cell_type": "code",
   "execution_count": 2,
   "metadata": {},
   "outputs": [],
   "source": [
    "import multiprocessing\n",
    "q = multiprocessing.Queue()  # 设定队列大小，一般不指定\n",
    "q.put(2) # 如果满了会阻塞\n",
    "q.put_nowait(3) # 不阻塞，满了会报异常\n",
    "q.get() # 如果空会阻塞\n",
    "q.get_nowait()  # 空了不会阻塞，但会报错\n",
    "q.empty() # 空判断\n",
    "q.full()  # 满判断\n",
    "\n"
   ]
  },
  {
   "cell_type": "code",
   "execution_count": 4,
   "metadata": {},
   "outputs": [],
   "source": [
    "import multiprocessing\n",
    "def down_load_data(queue):\n",
    "    # 模拟从网络下载数据\n",
    "    data = [1,2,3,4,5]\n",
    "    for _ in data:\n",
    "        queue.put(_)\n",
    "    print(\"data is ok\")\n",
    "    \n",
    "\n",
    "def analysis_data(queue):\n",
    "    # 模拟分析数据\n",
    "    data = list()\n",
    "    while not queue.empty():\n",
    "        data.append(queue.get())\n",
    "    print(\"data analysis ok\")\n",
    "    print(data)\n",
    "\n",
    "def main():\n",
    "    queue = multiprocessing.Queue()\n",
    "    p1 =  multiprocessing.Process(target=down_load_data,args=(queue,))\n",
    "    p2 =  multiprocessing.Process(target=analysis_data,args=(queue,))\n",
    "    \n",
    "\n",
    "    p1.start()\n",
    "    p2.start()\n",
    "    \n",
    "if __name__ == \"__main__\":\n",
    "    # jupyter 的原故，这里起动进程没有什么显示，打代码放到pychar就有结果了\n",
    "    main()\n"
   ]
  },
  {
   "cell_type": "markdown",
   "metadata": {},
   "source": [
    "进程池"
   ]
  },
  {
   "cell_type": "code",
   "execution_count": 1,
   "metadata": {},
   "outputs": [
    {
     "name": "stdout",
     "output_type": "stream",
     "text": [
      "------end------\n"
     ]
    }
   ],
   "source": [
    "import time\n",
    "import os\n",
    "import multiprocessing\n",
    "\n",
    "def work(index):\n",
    "    print(\"proccess：{}, index：{} is finished\".format(os.getpid(), index))\n",
    "    time.sleep(3)\n",
    "\n",
    "\n",
    "if __name__ == \"__main__\":\n",
    "    \"\"\"\n",
    "    在windows中, 创建进程由于没有folk创建进程, 所以是通过重载自身模块来创建的, \n",
    "    如果Pool放在if __name__ == \"__main__\"外部, 就会进行无限递归\n",
    "    \n",
    "    代码在jupyter中没有效果\n",
    "    \"\"\"\n",
    "    pool = multiprocessing.Pool(3)  # 最多开辟3个进程\n",
    "    for i in range(10):\n",
    "        pool.apply_async(work, (i,))  # 向池子添加任务\n",
    "#     pool.close()  # 关闭进程池，不再接受新的请求\n",
    "#     pool.join()  # 等待所有子进程运行结束,必须放在close之后\n",
    "    print(\"------end------\")\n",
    "    "
   ]
  },
  {
   "cell_type": "markdown",
   "metadata": {},
   "source": [
    "多进程的queue、锁\n",
    "\n",
    "import queque 普通的队列，在多进程中没用\n",
    "multiprocessing.Queue()  可在多进程中使用，但不可以在进程池中使用\n",
    "multiprocessing.Manager().Queue()  可以在进程池中使用\n",
    "\n",
    "多进程的锁也是一样\n",
    "multiprocessing.Manager().Lock()  可以在进程池中使用"
   ]
  },
  {
   "cell_type": "markdown",
   "metadata": {},
   "source": []
  },
  {
   "cell_type": "markdown",
   "metadata": {},
   "source": [
    "迭代器"
   ]
  },
  {
   "cell_type": "code",
   "execution_count": 2,
   "metadata": {},
   "outputs": [
    {
     "name": "stdout",
     "output_type": "stream",
     "text": [
      "True\n",
      "张三\n",
      "李四\n",
      "王五\n"
     ]
    }
   ],
   "source": [
    "# 一个对象是否可迭代，主要看是否派生自Iterable\n",
    "from collections import Iterable\n",
    "print(isinstance(\"abcd\",Iterable))\n",
    "\n",
    "# 要实现一个可迭代的对象，必须实现__iter__方法，__iter__方法的返回值就是一个迭代器，要实现一个迭代器，又必须同时实现__iter__和__next__方\n",
    "# 法\n",
    "\n",
    "class Workmate(object):\n",
    "    \n",
    "    def __init__(self):\n",
    "        self.names = list()\n",
    "        self.index = 0\n",
    "    def add(self,name):\n",
    "        self.names.append(name)\n",
    "        \n",
    "    def __iter__(self): # 会被 iter()方法自动调用，遍历的时候也会被自动调用，返回一个可迭代的对像，Workmate自身就是可迭代的\n",
    "        return self\n",
    "    \n",
    "    def __next__(self):   # 会被 next()方法自动调用，注意这里会存在下标越界问题，要判断是否小于len\n",
    "        if self.index < len(self.names):\n",
    "            ret = self.names[self.index]  \n",
    "            self.index += 1\n",
    "            return ret\n",
    "        else: # 在循环中，__next__会一直被调用，就算下标越界了，它也不知道什么时候停止，所以一定要抛出StopIteration异常，for循环才会停\n",
    "            raise StopIteration\n",
    "\n",
    "\n",
    "\n",
    "workmate = Workmate()\n",
    "workmate.add(\"张三\")\n",
    "workmate.add(\"李四\")\n",
    "workmate.add(\"王五\")\n",
    "    \n",
    "for temp in workmate:\n",
    "    print(temp)"
   ]
  },
  {
   "cell_type": "code",
   "execution_count": null,
   "metadata": {},
   "outputs": [],
   "source": []
  },
  {
   "cell_type": "markdown",
   "metadata": {},
   "source": [
    "生成器，是一种特殊的迭代器\n",
    "方式1 把列表推导式的中括号换成小括号，就得到了一个生成器   "
   ]
  },
  {
   "cell_type": "code",
   "execution_count": 9,
   "metadata": {},
   "outputs": [
    {
     "name": "stdout",
     "output_type": "stream",
     "text": [
      "0\n",
      "1\n",
      "2\n",
      "3\n",
      "4\n",
      "5\n",
      "6\n",
      "7\n",
      "8\n",
      "9\n"
     ]
    }
   ],
   "source": [
    "ls = [x for x in range(10)]  # 这种形式很占空间\n",
    "temp =(x for x in range(10)) # 这种形式不占空间\n",
    "for num in temp:\n",
    "    print(num)"
   ]
  },
  {
   "cell_type": "markdown",
   "metadata": {},
   "source": [
    "方式2 只要方法里面有yield，就是一个生成器\n",
    "\n",
    "如果这种方式生成的生成器里面有return一个结果，通常这个结果是拿不到的，通过next()一直迭代下去，到最后会报异常，try之后拿到异常对像ex\n",
    "通过ex.value可以拿到return的结果"
   ]
  },
  {
   "cell_type": "code",
   "execution_count": 2,
   "metadata": {
    "scrolled": true
   },
   "outputs": [],
   "source": [
    "def fibonacii(number):\n",
    "    \"\"\"用生成器来生成斐波那契数列\"\"\"\n",
    "    a, b = 0, 1\n",
    "    counter = 0\n",
    "    while counter < number:\n",
    "        yield a\n",
    "        a, b = b, a + b\n",
    "        counter += 1\n",
    "        \n",
    "temp = fibonnacii(10)  # 这里就变成了创建生成器，而不是调用普通函数\n",
    "for _ in temp:\n",
    "    #print(_)\n",
    "    pass"
   ]
  },
  {
   "cell_type": "markdown",
   "metadata": {},
   "source": [
    "除了next()方法可以调用用yield生成的生成器，send()也可以调用生成器，并且可以向生成器传入参数。但，send()方法首次调用生成器传参只能传None，否则会报错。"
   ]
  },
  {
   "cell_type": "code",
   "execution_count": 8,
   "metadata": {},
   "outputs": [
    {
     "name": "stdout",
     "output_type": "stream",
     "text": [
      "0\n",
      "ret =  hello world\n",
      "1\n"
     ]
    }
   ],
   "source": [
    "def fibonacii(number):\n",
    "    \"\"\"用生成器来生成斐波那契数列\"\"\"\n",
    "    a, b = 0, 1\n",
    "    counter = 0\n",
    "    while counter < number:\n",
    "        ret  = yield a\n",
    "        print(\"ret = \", ret)\n",
    "        a, b = b, a + b\n",
    "        counter += 1\n",
    "        \n",
    "        \n",
    "obj = fibonacii(10)\n",
    "# print(obj.send(\"your args\"))  会报错，因为没有任何变量去接send()传入的参数\n",
    "print(next(obj)) \n",
    "result = obj.send(\"hello world\") \n",
    "# 在第一次调next()之后，程序在yield a处将值传出并暂停，send将参数传入给里面的ret，然后程序继续往前走，\n",
    "# (你可以用拿到的参数修改原业务，不修改也可以)。在下一次yield a的时候，参值返回给外面，同时将a的值赋给ret，所以send的返回值是1\n",
    "print(result)\n"
   ]
  },
  {
   "cell_type": "code",
   "execution_count": null,
   "metadata": {},
   "outputs": [],
   "source": [
    "用yield实现多任务(假的多线程)"
   ]
  },
  {
   "cell_type": "code",
   "execution_count": null,
   "metadata": {},
   "outputs": [],
   "source": [
    "import time\n",
    "def task_1():\n",
    "    while True:\n",
    "        print(\"--------task_1-----------\")\n",
    "        time.sleep(1)\n",
    "        yield # 重点是这里\n",
    "        \n",
    "def task_2():\n",
    "    while True:\n",
    "        print(\"--------task_2-----------\")\n",
    "        time.sleep(1)\n",
    "        yield\n",
    "        \n",
    "def main():\n",
    "    t1 = task_1()\n",
    "    t2 = task_2()\n",
    "    while True:\n",
    "        next(t1)\n",
    "        next(t2)\n",
    "    "
   ]
  },
  {
   "cell_type": "markdown",
   "metadata": {},
   "source": [
    "greenlet实现多任务--知道可以这么用而矣"
   ]
  },
  {
   "cell_type": "code",
   "execution_count": 3,
   "metadata": {},
   "outputs": [],
   "source": [
    "from greenlet import greenlet\n",
    "import time\n",
    "\n",
    "def task1():\n",
    "    while True:\n",
    "        print(\"task1\")\n",
    "        g2.switch()\n",
    "        time.sleep(1)\n",
    "        \n",
    "def task2():\n",
    "    while True:\n",
    "        print(\"task2\")\n",
    "        g1.switch()\n",
    "        time.sleep(1)\n",
    "        \n",
    "g1 = greenlet(task1)\n",
    "g2 = greenlet(task2)\n",
    "# 切换到g1中运行\n",
    "g1.switch()\n"
   ]
  },
  {
   "cell_type": "markdown",
   "metadata": {},
   "source": [
    "gevent实现多任务（重点）,gevent是对greenlet的进一步封装！  \n",
    "gevent一遇到耗时操作(gevent.sleep(1))，就会马上切换到下一个任务。  \n",
    "如果不想用gevent.sleep()，要给代码先打包。"
   ]
  },
  {
   "cell_type": "code",
   "execution_count": 2,
   "metadata": {},
   "outputs": [],
   "source": [
    "import gevent\n",
    "import time\n",
    "from gevent import monkey\n",
    "import random\n",
    "\n",
    "# 打包代码，将程序中所有耗时操作替换为gevent自己的实现，如time.sleep(1)会变成 gevent.sleep(1)\n",
    "monkey.patch_all()\n",
    "\n",
    "def task(n):\n",
    "    for i in range(5):\n",
    "        print(n, i)\n",
    "        time.sleep(0.5)\n",
    "\n",
    "# joinall 启动任务并等等所有任务运行完 如C#中的Task,WaitAll是一个意思\n",
    "gevent.joinall([ \n",
    "    gevent.spawn(task,\"task1\"),# 新建任务并启动\n",
    "    gevent.spawn(task,\"task2\"),\n",
    "    gevent.spawn(task,\"task3\")\n",
    "])\n"
   ]
  },
  {
   "cell_type": "code",
   "execution_count": null,
   "metadata": {},
   "outputs": [],
   "source": []
  },
  {
   "cell_type": "code",
   "execution_count": null,
   "metadata": {},
   "outputs": [],
   "source": []
  },
  {
   "cell_type": "code",
   "execution_count": null,
   "metadata": {},
   "outputs": [],
   "source": []
  },
  {
   "cell_type": "code",
   "execution_count": null,
   "metadata": {},
   "outputs": [],
   "source": []
  },
  {
   "cell_type": "code",
   "execution_count": null,
   "metadata": {},
   "outputs": [],
   "source": []
  },
  {
   "cell_type": "code",
   "execution_count": null,
   "metadata": {},
   "outputs": [],
   "source": []
  },
  {
   "cell_type": "code",
   "execution_count": null,
   "metadata": {},
   "outputs": [],
   "source": []
  },
  {
   "cell_type": "code",
   "execution_count": null,
   "metadata": {},
   "outputs": [],
   "source": []
  }
 ],
 "metadata": {
  "kernelspec": {
   "display_name": "Python 3",
   "language": "python",
   "name": "python3"
  },
  "language_info": {
   "codemirror_mode": {
    "name": "ipython",
    "version": 3
   },
   "file_extension": ".py",
   "mimetype": "text/x-python",
   "name": "python",
   "nbconvert_exporter": "python",
   "pygments_lexer": "ipython3",
   "version": "3.6.4"
  }
 },
 "nbformat": 4,
 "nbformat_minor": 2
}
