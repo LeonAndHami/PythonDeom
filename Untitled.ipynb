{
 "cells": [
  {
   "cell_type": "code",
   "execution_count": null,
   "metadata": {},
   "outputs": [],
   "source": [
    "import numpy as np\n",
    "import pandas as pd\n",
    "import re\n",
    "import os\n",
    "from bs4 import BeautifulSoup\n"
   ]
  },
  {
   "cell_type": "code",
   "execution_count": 14,
   "metadata": {},
   "outputs": [
    {
     "name": "stdout",
     "output_type": "stream",
     "text": [
      "执行初始化动作\n",
      "168880147312\n",
      "168880147312\n"
     ]
    }
   ],
   "source": [
    "class Person():\n",
    "    instance = None\n",
    "    __is_init = False\n",
    "    def __new__(cls):\n",
    "        if cls.instance is None:\n",
    "            cls.instance = super().__new__(cls)\n",
    "            return cls.instance\n",
    "        \n",
    "        return cls.instance\n",
    "    \n",
    "    def __init__(self):\n",
    "        #避免初始化方法执行多次\n",
    "        if Person.__is_init:\n",
    "            return\n",
    "        print(\"执行初始化动作\")\n",
    "        Person.__is_init = True\n",
    "    \n",
    "tom = Person()\n",
    "jerry = Person()\n",
    "\n",
    "print(id(tom))\n",
    "print(id(jerry))\n",
    "\n",
    "    \n",
    "    "
   ]
  },
  {
   "cell_type": "code",
   "execution_count": 5,
   "metadata": {},
   "outputs": [
    {
     "name": "stdout",
     "output_type": "stream",
     "text": [
      "dog barking...\n"
     ]
    },
    {
     "ename": "NameError",
     "evalue": "name 'say_hi' is not defined",
     "output_type": "error",
     "traceback": [
      "\u001b[1;31m---------------------------------------------------------------------------\u001b[0m",
      "\u001b[1;31mNameError\u001b[0m                                 Traceback (most recent call last)",
      "\u001b[1;32m<ipython-input-5-88a2bed811d3>\u001b[0m in \u001b[0;36m<module>\u001b[1;34m()\u001b[0m\n\u001b[0;32m      9\u001b[0m     \u001b[1;32mdef\u001b[0m \u001b[0msay_hi\u001b[0m\u001b[1;33m(\u001b[0m\u001b[0mcls\u001b[0m\u001b[1;33m)\u001b[0m\u001b[1;33m:\u001b[0m\u001b[1;33m\u001b[0m\u001b[0m\n\u001b[0;32m     10\u001b[0m         \u001b[0mprint\u001b[0m\u001b[1;33m(\u001b[0m\u001b[1;34m\"hello guys...\"\u001b[0m\u001b[1;33m)\u001b[0m\u001b[1;33m\u001b[0m\u001b[0m\n\u001b[1;32m---> 11\u001b[1;33m \u001b[0mDog\u001b[0m\u001b[1;33m.\u001b[0m\u001b[0mbark\u001b[0m\u001b[1;33m(\u001b[0m\u001b[1;33m)\u001b[0m\u001b[1;33m\u001b[0m\u001b[0m\n\u001b[0m",
      "\u001b[1;32m<ipython-input-5-88a2bed811d3>\u001b[0m in \u001b[0;36mbark\u001b[1;34m()\u001b[0m\n\u001b[0;32m      4\u001b[0m     \u001b[1;32mdef\u001b[0m \u001b[0mbark\u001b[0m\u001b[1;33m(\u001b[0m\u001b[1;33m)\u001b[0m\u001b[1;33m:\u001b[0m\u001b[1;33m\u001b[0m\u001b[0m\n\u001b[0;32m      5\u001b[0m         \u001b[0mprint\u001b[0m\u001b[1;33m(\u001b[0m\u001b[1;34m\"dog barking...\"\u001b[0m\u001b[1;33m)\u001b[0m\u001b[1;33m\u001b[0m\u001b[0m\n\u001b[1;32m----> 6\u001b[1;33m         \u001b[0msay_hi\u001b[0m\u001b[1;33m(\u001b[0m\u001b[1;33m)\u001b[0m\u001b[1;33m\u001b[0m\u001b[0m\n\u001b[0m\u001b[0;32m      7\u001b[0m \u001b[1;33m\u001b[0m\u001b[0m\n\u001b[0;32m      8\u001b[0m     \u001b[1;33m@\u001b[0m\u001b[0mclassmethod\u001b[0m\u001b[1;33m\u001b[0m\u001b[0m\n",
      "\u001b[1;31mNameError\u001b[0m: name 'say_hi' is not defined"
     ]
    }
   ],
   "source": [
    "class Dog(object):\n",
    "    counter = 0\n",
    "    @staticmethod\n",
    "    def bark():\n",
    "        print(\"dog barking...\")\n",
    "        say_hi()\n",
    "       \n",
    "    @classmethod\n",
    "    def say_hi(cls):\n",
    "        print(\"hello guys...\")\n",
    "Dog.bark()"
   ]
  },
  {
   "cell_type": "code",
   "execution_count": 9,
   "metadata": {},
   "outputs": [
    {
     "name": "stdout",
     "output_type": "stream",
     "text": [
      "mark the log\n",
      "30\n"
     ]
    }
   ],
   "source": [
    "#装饰器演变过程1\n",
    "#  4(即x参数)已经被固定在闭包中了,并且new_add的返回值是一个函数\n",
    "# def add(a,b):\n",
    "#     return a+b\n",
    "\n",
    "# def new_add(x):\n",
    "#     def inner(y):\n",
    "#         return x + y\n",
    "#     return inner\n",
    "\n",
    "\n",
    "# foo = new_add(4)\n",
    "# ret = foo(5)\n",
    "# print(ret)\n",
    "\n",
    "        \n",
    "#装饰器演变过程2\n",
    "#把add函数作为参数，传给了logger函数，logger函数用wrapper对add进行了加工(没有改变add的原有功能)，且logger的返回\n",
    "#值是一个函数wrapper,而wrapper内部是肯定会执行add函数的\n",
    "\n",
    "# def looger(fn):\n",
    "#     def wrapper(*args, **kwargs):\n",
    "#         print(\"mark the log\")\n",
    "#         return fn(*args, **kwargs)\n",
    "#         #print(\"or do sth\")\n",
    "#     return wrapper\n",
    "    \n",
    "# def add(a,b):\n",
    "#     return a+b\n",
    "\n",
    "# foo = looger(add)\n",
    "# print(foo(10,10))\n",
    "\n",
    "\n",
    "#装饰器演变过程3\n",
    "#将add 传给logger的时候，add已经被固定在logger的wrapper中了，然后logger返回的是一个函数，也就是左边的add已经是一个被增强过的add了\n",
    "\n",
    "# add = looger(add)\n",
    "# add(10,20)\n",
    "            \n",
    "    \n",
    "#装饰器演变过程4\n",
    "def logger(fn):\n",
    "    def wrapper(*args, **kwargs):\n",
    "        print(\"mark the log\")\n",
    "        return fn(*args, **kwargs)\n",
    "        #print(\"or do sth\")\n",
    "    return wrapper\n",
    "\n",
    "@logger  # 等价于： add = logger(add)\n",
    "def add(a,b):\n",
    "    return a + b    \n",
    "\n",
    "\n",
    "print(add(10,20))\n",
    "    "
   ]
  },
  {
   "cell_type": "code",
   "execution_count": 2,
   "metadata": {},
   "outputs": [],
   "source": [
    "import pygame\n",
    "pygame.init()\n",
    "# 创建游戏窗口\n",
    "screen = pygame.display.set_mode((480,700))\n",
    "# 读取背影图片\n",
    "bg = pygame.image.load(\"your path\")\n",
    "# 绘制图像\n",
    "screen.blit(gb,(0,0))\n",
    "# 更新屏幕显示\n",
    "pygame.display.update()\n",
    "\n",
    "\n",
    "pygame.quit()"
   ]
  },
  {
   "cell_type": "code",
   "execution_count": 54,
   "metadata": {},
   "outputs": [
    {
     "name": "stdout",
     "output_type": "stream",
     "text": [
      "[2, 4, 6, 8, 3, 7, 5, 9, 1]\n"
     ]
    }
   ],
   "source": [
    "temp = [5,6,7,8,1,2,3,4,9]\n",
    "def doit(lst):\n",
    "    lst = sorted(lst)\n",
    "    for i in range(len(lst)):\n",
    "        if lst[i] % 2 > 0:\n",
    "            lst.insert(-1,lst.pop(i))\n",
    "    print(lst)\n",
    "    \n",
    "\n",
    "doit(temp)  \n"
   ]
  }
 ],
 "metadata": {
  "kernelspec": {
   "display_name": "Python 3",
   "language": "python",
   "name": "python3"
  },
  "language_info": {
   "codemirror_mode": {
    "name": "ipython",
    "version": 3
   },
   "file_extension": ".py",
   "mimetype": "text/x-python",
   "name": "python",
   "nbconvert_exporter": "python",
   "pygments_lexer": "ipython3",
   "version": "3.6.4"
  }
 },
 "nbformat": 4,
 "nbformat_minor": 2
}
