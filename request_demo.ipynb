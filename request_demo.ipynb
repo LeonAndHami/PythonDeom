{
 "cells": [
  {
   "cell_type": "code",
   "execution_count": 8,
   "metadata": {},
   "outputs": [
    {
     "data": {
      "text/plain": [
       "'{\"error\":997,\"from\":\"en\",\"to\":\"zh\",\"query\":\"ten\"}'"
      ]
     },
     "execution_count": 8,
     "metadata": {},
     "output_type": "execute_result"
    }
   ],
   "source": [
    "import requests\n",
    "url = \"http://www.baidu.com/\"\n",
    "response = requests.get(url=url)\n",
    "# response.text\n",
    "# response.status_code\n",
    "# response.headers\n",
    "# response.history\n",
    "# response.requests # 请求相关的属性在这个对象里面\n",
    "# response.content.decode() # 源码内容\n",
    "\n",
    "headers = {\"User-Agent\":\"eWebKit/537.36 (KHTML, like Gecko) Chrome/74.0.3729.157 Safari/537.36\"}\n",
    "         \n",
    "# 带请求头的请求\n",
    "# response = requests.get(url=url,headers=headers)\n",
    "\n",
    "# 带参数的请求\n",
    "url = \"http://www.baidu.com/s\"\n",
    "params = {\"wd\":\"python\"}\n",
    "# response = requests.get(url=url,headers=headers,params=params)\n",
    "# response.content.decode()\n",
    "\n",
    "# 发post请求\n",
    "# tips：当某些要post的数据，不知道浏览器是怎么生成的时候，可以尝试切换到 手机版 的请求试试，记得换请求头\n",
    "data = {\"query\": \"cat\"}\n",
    "url = \"https://fanyi.baidu.com/langdetect\"\n",
    "# response = requests.post(url,data=data,headers=headers)\n",
    "# response.content.decode()\n",
    "# response.cookies\n",
    "\n",
    "url = \"https://fanyi.baidu.com/v2transapi\"\n",
    "data = {\n",
    "    \"from\": \"en\",\n",
    "    \"to\": \"zh\",\n",
    "    \"query\": \"ten\",\n",
    "    \"transtype\": \"translang\",\n",
    "    \"simple_means_flag\": \"3\",\n",
    "    \"sign\": \"173995.410778\",\n",
    "    \"token\": \"59c5a408677de6df12490bd561080159\"\n",
    "}\n",
    "response = requests.post(url,data=data)\n",
    "response.content.decode()\n",
    "\n",
    "\n",
    "\n",
    "# 查找登录时，提交数据的地址，除了抓包，还可以查看登录的源文件中表单是否有action,一般action就是提交数据的地址\n",
    "\n",
    "\n",
    "\n",
    "\n",
    "\n",
    "\n"
   ]
  }
 ],
 "metadata": {
  "kernelspec": {
   "display_name": "Python 3",
   "language": "python",
   "name": "python3"
  },
  "language_info": {
   "codemirror_mode": {
    "name": "ipython",
    "version": 3
   },
   "file_extension": ".py",
   "mimetype": "text/x-python",
   "name": "python",
   "nbconvert_exporter": "python",
   "pygments_lexer": "ipython3",
   "version": "3.6.4"
  }
 },
 "nbformat": 4,
 "nbformat_minor": 2
}
