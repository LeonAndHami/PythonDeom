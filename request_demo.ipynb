{
 "cells": [
  {
   "cell_type": "markdown",
   "metadata": {},
   "source": []
  },
  {
   "cell_type": "code",
   "execution_count": 12,
   "metadata": {},
   "outputs": [],
   "source": [
    "import requests\n",
    "url = \"http://www.baidu.com/\"\n",
    "response = requests.get(url=url)\n",
    "# response.text\n",
    "# response.status_code\n",
    "# response.headers\n",
    "# response.history\n",
    "# response.requests # 请求相关的属性在这个对象里面\n",
    "# response.content.decode() # 源码内容\n",
    "\n",
    "headers = {\"User-Agent\":\"Mozilla/5.0 (Windows NT 6.3; Win64; x64) AppleWebKit/537.36 (KHTML, like Gecko) Chrome/74.0.3729.157 Safari/537.36\"\n",
    "         }\n",
    "# 带请求头的请求\n",
    "response = requests.get(url=url,headers=headers)\n",
    "\n",
    "# 带参数的请求\n",
    "url = \"http://www.baidu.com/s\"\n",
    "params = {\"wd\":\"python\"}\n",
    "response = requests.get(url=url,headers=headers,params=params)\n",
    "# response.content.decode()\n",
    "\n"
   ]
  }
 ],
 "metadata": {
  "kernelspec": {
   "display_name": "Python 3",
   "language": "python",
   "name": "python3"
  },
  "language_info": {
   "codemirror_mode": {
    "name": "ipython",
    "version": 3
   },
   "file_extension": ".py",
   "mimetype": "text/x-python",
   "name": "python",
   "nbconvert_exporter": "python",
   "pygments_lexer": "ipython3",
   "version": "3.6.4"
  }
 },
 "nbformat": 4,
 "nbformat_minor": 2
}
