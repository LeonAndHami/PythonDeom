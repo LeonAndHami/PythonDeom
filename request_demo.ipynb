{
 "cells": [
  {
   "cell_type": "markdown",
   "metadata": {},
   "source": []
  },
  {
   "cell_type": "code",
   "execution_count": 12,
   "metadata": {},
   "outputs": [],
   "source": [
    "import requests\n",
    "url = \"http://www.baidu.com/\"\n",
    "response = requests.get(url=url)\n",
    "# response.text  字符串类型，是根据响应头推断编码方法，然后解码得到的\n",
    "# response.encoding # 查看编码方式  不一定正确\n",
    "# response.status_code\n",
    "# response.headers\n",
    "# response.history\n",
    "# response.requests # 请求相关的属性在这个对象里面\n",
    "# response.content # 响应的数据，二进制\n",
    "# response.content.decode() # 源码内容 decode 方法可以指定解码方式\n",
    "\n",
    "\n",
    "\n",
    "headers = {\"User-Agent\":\"Mozilla/5.0 (Windows NT 6.3; Win64; x64) AppleWebKit/537.36 (KHTML, like Gecko) Chrome/74.0.3729.157 Safari/537.36\"\n",
    "         }\n",
    "# 带请求头的请求\n",
    "response = requests.get(url=url,headers=headers)\n",
    "\n",
    "# 带参数的请求\n",
    "url = \"http://www.baidu.com/s\"\n",
    "params = {\"wd\":\"python\"}\n",
    "response = requests.get(url=url,headers=headers,params=params)\n",
    "# response.content.decode()\n",
    "\n",
    "\n",
    "\n",
    "# 使用代理\n",
    "p = {\"http\":\"your proxy ip address\"}\n",
    "response = requests.get(url,headers=headers,proxies=p)\n",
    "\n",
    "# 代码响应速度检查，可以通过指定超时时间，然后捕获异常，异常的代理可以丢弃或标记来质量差；或者用在线代理IP质量检查的网站\n",
    "\n",
    "\n",
    "# 使用cookie\n",
    "cookies = {}\n",
    "requests.get(url,headers=headers,cookies=cookies)\n",
    "\n",
    "# 使用session\n",
    "s = requests.session()\n",
    "s.get(url,headers)\n",
    "\n",
    "\n",
    "# 定位想要的JS\n",
    "\n",
    "\n",
    "\n"
   ]
  }
 ],
 "metadata": {
  "kernelspec": {
   "display_name": "Python 3",
   "language": "python",
   "name": "python3"
  },
  "language_info": {
   "codemirror_mode": {
    "name": "ipython",
    "version": 3
   },
   "file_extension": ".py",
   "mimetype": "text/x-python",
   "name": "python",
   "nbconvert_exporter": "python",
   "pygments_lexer": "ipython3",
   "version": "3.6.4"
  }
 },
 "nbformat": 4,
 "nbformat_minor": 2
}
