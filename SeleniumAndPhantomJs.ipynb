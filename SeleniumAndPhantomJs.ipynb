{
 "cells": [
  {
   "cell_type": "code",
   "execution_count": null,
   "metadata": {},
   "outputs": [],
   "source": [
    "from selenium import webdriver\n",
    "\n",
    "# driver = webdriver.Chrome()\n",
    "driver = webdriver.PhantomJS()\n",
    "\n",
    "# driver.set_window_size()  # 设置浏览器大小\n",
    "# driver.maximize_window()   # 最大化窗口\n",
    "\n",
    "driver.get('https://www.baidu.com')\n",
    "\n",
    "input_box = driver.find_element_by_id('kw')\n",
    "\n",
    "input_box.send_keys('输入内容')\n",
    "\n",
    "btn = driver.find_element_by_id('su')\n",
    "btn.click()\n",
    "\n",
    "# driver.save_screenshot('your file path.jpg') # 截图\n",
    "\n",
    "# cookie = driver.get_cookie()  # 获取cookies\n",
    "# cookies  = driver.get_cookies()  # 获取cookies\n",
    "\n",
    "# driver.page_source  # 获取页面内容\n",
    "\n",
    "# driver.current_url  # 当前url\n",
    "\n",
    "# input_box.text # 取文本\n",
    "# input_box.get_atrribute() #取属性值\n",
    "\n",
    "# driver.close()  # 退出当前页面\n",
    "# driver.quit()   # 退出浏览器\n",
    "\n",
    "# 注意：如果元素的包含在某个iframe或frame下面，定位元素要先切换到指定的iframe或frame\n",
    "# driver.switch_to_frame('id')\n"
   ]
  },
  {
   "cell_type": "code",
   "execution_count": 24,
   "metadata": {},
   "outputs": [],
   "source": [
    "from selenium import webdriver\n",
    "from selenium.webdriver.common.by import By\n",
    "from selenium.webdriver.support.ui import WebDriverWait\n",
    "from selenium.webdriver.support import expected_conditions as EC\n",
    "\n",
    "\n",
    "options = webdriver.ChromeOptions()\n",
    "options.add_argument('--no-sandbox')\n",
    "options.add_argument('headless') # 无头\n",
    "driver = webdriver.Chrome(options=options)\n",
    "# driver = webdriver.PhantomJS()\n",
    "url = 'https://www.baidu.com'\n",
    "\n",
    "while url:\n",
    "    driver.get(url)\n",
    "    \n",
    "    try:\n",
    "        btn = WebDriverWait(driver, 100).until(EC.presence_of_element_located((By.ID, \"su\")))\n",
    "#         print(\"loaded...\")\n",
    "        break\n",
    "        \n",
    "        \n",
    "    finally:\n",
    "    #     driver.quit()\n",
    "        pass\n"
   ]
  }
 ],
 "metadata": {
  "kernelspec": {
   "display_name": "Python 3",
   "language": "python",
   "name": "python3"
  },
  "language_info": {
   "codemirror_mode": {
    "name": "ipython",
    "version": 3
   },
   "file_extension": ".py",
   "mimetype": "text/x-python",
   "name": "python",
   "nbconvert_exporter": "python",
   "pygments_lexer": "ipython3",
   "version": "3.6.4"
  }
 },
 "nbformat": 4,
 "nbformat_minor": 2
}
